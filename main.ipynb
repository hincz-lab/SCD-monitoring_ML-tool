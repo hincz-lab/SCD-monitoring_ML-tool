{
 "cells": [
  {
   "cell_type": "code",
   "execution_count": null,
   "metadata": {},
   "outputs": [],
   "source": [
    "# load processing functions\n",
    "from source.toolkit import list_channels\n",
    "from source.toolkit import load_zoo\n",
    "from source.toolkit import list_channels_df\n",
    "\n",
    "# load main class object for monitoring blood cells\n",
    "from source.SickleML_Monitor import CountAdheredBloodCells \n"
   ]
  },
  {
   "cell_type": "code",
   "execution_count": null,
   "metadata": {},
   "outputs": [],
   "source": [
    "%%time \n",
    "\n",
    "'load model'\n",
    "\n",
    "#K.clear_session()\n",
    "# path that contains the folders for the pretrained weights folders\n",
    "working_path = 'C:/Users/npral/OneDrive/Desktop/SCD_project/SCD-ML_general-tool'\n",
    "Phase1_path = working_path + '/pretrained-weights/Training-Phase1/model/' # folder for Phase I \n",
    "Phase2_path = working_path + '/pretrained-weights/Training-Phase2/model/' # folder for Phase II\n",
    "#Phase2_path = working_path + '/Phase 2/'\n",
    "# folder for Phase II\n",
    "\n",
    "Phase1_ensemble = load_zoo(Phase1_path) # loading the Phase I ensemble (expect: 7)\n",
    "Phase2_ensemble = load_zoo(Phase2_path) # loading the Phase I ensemble (expect: 5)"
   ]
  },
  {
   "cell_type": "code",
   "execution_count": 3,
   "metadata": {},
   "outputs": [],
   "source": [
    "'channel images'\n",
    "\n",
    "# folder path that contains all of p-selectin images\n",
    "path= 'C:/Users/npral/OneDrive/Desktop/SCD_project/SCD-ML_general-tool/protein-channel-data/'\n",
    "channel_filenames = list_channels_df(path + 'Laminin_cnts-Resnet50.csv')\n",
    "channel_path = path + 'Laminin/Images/'\n",
    "channel_filenames  = channel_filenames + '.jpg'"
   ]
  },
  {
   "cell_type": "code",
   "execution_count": 4,
   "metadata": {},
   "outputs": [
    {
     "data": {
      "text/plain": [
       "'36 Normoxia Count 505'"
      ]
     },
     "execution_count": 4,
     "metadata": {},
     "output_type": "execute_result"
    }
   ],
   "source": [
    "import pandas as pd\n",
    "pd.read_csv(path + 'Laminin_cnts-Resnet50.csv').filename[12]"
   ]
  },
  {
   "cell_type": "code",
   "execution_count": 5,
   "metadata": {
    "scrolled": true
   },
   "outputs": [
    {
     "name": "stdout",
     "output_type": "stream",
     "text": [
      "Analysis: 0 | Channel: 36 Normoxia Count 505.jpg\n",
      "==================================================================\n",
      "Prepare the Phase I data ...\n",
      "Total of number of extract tiles:  3500\n",
      "Complete ...\n",
      "Implementing Phase I ...\n",
      "WARNING:tensorflow:5 out of the last 5 calls to <function Model.make_predict_function.<locals>.predict_function at 0x000002395604FD38> triggered tf.function retracing. Tracing is expensive and the excessive number of tracings could be due to (1) creating @tf.function repeatedly in a loop, (2) passing tensors with different shapes, (3) passing Python objects instead of tensors. For (1), please define your @tf.function outside of the loop. For (2), @tf.function has experimental_relax_shapes=True option that relaxes argument shapes that can avoid unnecessary retracing. For (3), please refer to https://www.tensorflow.org/tutorials/customization/performance#python_or_tensor_args and https://www.tensorflow.org/api_docs/python/tf/function for  more details.\n",
      "WARNING:tensorflow:6 out of the last 6 calls to <function Model.make_predict_function.<locals>.predict_function at 0x000002395604F5E8> triggered tf.function retracing. Tracing is expensive and the excessive number of tracings could be due to (1) creating @tf.function repeatedly in a loop, (2) passing tensors with different shapes, (3) passing Python objects instead of tensors. For (1), please define your @tf.function outside of the loop. For (2), @tf.function has experimental_relax_shapes=True option that relaxes argument shapes that can avoid unnecessary retracing. For (3), please refer to https://www.tensorflow.org/tutorials/customization/performance#python_or_tensor_args and https://www.tensorflow.org/api_docs/python/tf/function for  more details.\n",
      "WARNING:tensorflow:7 out of the last 7 calls to <function Model.make_predict_function.<locals>.predict_function at 0x00000239769B0EE8> triggered tf.function retracing. Tracing is expensive and the excessive number of tracings could be due to (1) creating @tf.function repeatedly in a loop, (2) passing tensors with different shapes, (3) passing Python objects instead of tensors. For (1), please define your @tf.function outside of the loop. For (2), @tf.function has experimental_relax_shapes=True option that relaxes argument shapes that can avoid unnecessary retracing. For (3), please refer to https://www.tensorflow.org/tutorials/customization/performance#python_or_tensor_args and https://www.tensorflow.org/api_docs/python/tf/function for  more details.\n",
      "Complete ...\n",
      "Prepare Phase II data ...\n",
      "Complete ...\n",
      "Implementing Phase II ...\n",
      "WARNING:tensorflow:5 out of the last 24498 calls to <function Model.make_predict_function.<locals>.predict_function at 0x00000239BD97C558> triggered tf.function retracing. Tracing is expensive and the excessive number of tracings could be due to (1) creating @tf.function repeatedly in a loop, (2) passing tensors with different shapes, (3) passing Python objects instead of tensors. For (1), please define your @tf.function outside of the loop. For (2), @tf.function has experimental_relax_shapes=True option that relaxes argument shapes that can avoid unnecessary retracing. For (3), please refer to https://www.tensorflow.org/tutorials/customization/performance#python_or_tensor_args and https://www.tensorflow.org/api_docs/python/tf/function for  more details.\n",
      "WARNING:tensorflow:6 out of the last 24499 calls to <function Model.make_predict_function.<locals>.predict_function at 0x00000239E6BDB558> triggered tf.function retracing. Tracing is expensive and the excessive number of tracings could be due to (1) creating @tf.function repeatedly in a loop, (2) passing tensors with different shapes, (3) passing Python objects instead of tensors. For (1), please define your @tf.function outside of the loop. For (2), @tf.function has experimental_relax_shapes=True option that relaxes argument shapes that can avoid unnecessary retracing. For (3), please refer to https://www.tensorflow.org/tutorials/customization/performance#python_or_tensor_args and https://www.tensorflow.org/api_docs/python/tf/function for  more details.\n",
      "Complete ...\n",
      "\n",
      "Wall time: 13min 14s\n"
     ]
    }
   ],
   "source": [
    "%%time \n",
    "\n",
    "'end to end pipeline (Phase 1 + Phase 2)'\n",
    "\n",
    "\n",
    "counts = [] \n",
    "\n",
    "rbc_thres = [0.4]\n",
    "wbc_thres = [0.7]\n",
    "other_thres = [0.9]\n",
    "\n",
    "for index, filenames in enumerate(channel_filenames[12:13]):\n",
    "    print('Analysis:', index, '| Channel:', filenames.replace('.png',''))\n",
    "    print('==================================================================')\n",
    "    channel = CountAdheredBloodCells(channel_path, filenames) # calling the class object\n",
    "    # calling the function to output cell counts\n",
    "    sRBC, WBC, Others, img_container, sRBC_container, WBC_container, Other_container = channel.call_pipeline(Phase1_ensemble, Phase2_ensemble, rbc_thres, wbc_thres, other_thres)\n",
    "\n",
    "    counts.append([filenames, sRBC, WBC, Others])"
   ]
  },
  {
   "cell_type": "code",
   "execution_count": 22,
   "metadata": {},
   "outputs": [
    {
     "data": {
      "text/html": [
       "<div>\n",
       "<style scoped>\n",
       "    .dataframe tbody tr th:only-of-type {\n",
       "        vertical-align: middle;\n",
       "    }\n",
       "\n",
       "    .dataframe tbody tr th {\n",
       "        vertical-align: top;\n",
       "    }\n",
       "\n",
       "    .dataframe thead th {\n",
       "        text-align: right;\n",
       "    }\n",
       "</style>\n",
       "<table border=\"1\" class=\"dataframe\">\n",
       "  <thead>\n",
       "    <tr style=\"text-align: right;\">\n",
       "      <th></th>\n",
       "      <th>filename</th>\n",
       "      <th>sRBC</th>\n",
       "      <th>WBC</th>\n",
       "      <th>Other</th>\n",
       "    </tr>\n",
       "  </thead>\n",
       "  <tbody>\n",
       "    <tr>\n",
       "      <th>0</th>\n",
       "      <td>36 Normoxia Count 505.jpg</td>\n",
       "      <td>493</td>\n",
       "      <td>0</td>\n",
       "      <td>86</td>\n",
       "    </tr>\n",
       "  </tbody>\n",
       "</table>\n",
       "</div>"
      ],
      "text/plain": [
       "                    filename  sRBC  WBC  Other\n",
       "0  36 Normoxia Count 505.jpg   493    0     86"
      ]
     },
     "execution_count": 22,
     "metadata": {},
     "output_type": "execute_result"
    }
   ],
   "source": [
    "# Number of counts\n",
    "\n",
    "counts_df = pd.DataFrame(counts)\n",
    "counts_df.columns = ['filename', 'sRBC', 'WBC', 'Other']\n",
    "counts_df.head()\n"
   ]
  },
  {
   "cell_type": "markdown",
   "metadata": {},
   "source": [
    "## Collect individual sickle RBCs: "
   ]
  },
  {
   "cell_type": "code",
   "execution_count": 28,
   "metadata": {},
   "outputs": [
    {
     "data": {
      "text/plain": [
       "<matplotlib.image.AxesImage at 0x2388b269388>"
      ]
     },
     "execution_count": 28,
     "metadata": {},
     "output_type": "execute_result"
    },
    {
     "data": {
      "image/png": "[encoded data removed]",
      "text/plain": [
       "<Figure size 432x288 with 1 Axes>"
      ]
     },
     "metadata": {
      "needs_background": "light"
     },
     "output_type": "display_data"
    }
   ],
   "source": [
    "import numpy as np\n",
    "import cv2 as cv\n",
    "import matplotlib.pyplot as plt\n",
    "\n",
    "sRBC_images = np.zeros((len(sRBC_container), 32, 32, 3))\n",
    "for ii, sample in enumerate(sRBC_container): \n",
    "    sRBC_images[ii,:,:,:] = img_container[sample]\n",
    "\n",
    "# example\n",
    "plt.imshow(sRBC_images[42,:,:,:].astype('int'))"
   ]
  }
 ],
 "metadata": {
  "kernelspec": {
   "display_name": "Python 3",
   "language": "python",
   "name": "python3"
  },
  "language_info": {
   "codemirror_mode": {
    "name": "ipython",
    "version": 3
   },
   "file_extension": ".py",
   "mimetype": "text/x-python",
   "name": "python",
   "nbconvert_exporter": "python",
   "pygments_lexer": "ipython3",
   "version": "3.7.5"
  }
 },
 "nbformat": 4,
 "nbformat_minor": 2
}
